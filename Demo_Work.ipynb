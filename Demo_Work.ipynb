{
 "metadata": {
  "language_info": {
   "codemirror_mode": {
    "name": "ipython",
    "version": 3
   },
   "file_extension": ".py",
   "mimetype": "text/x-python",
   "name": "python",
   "nbconvert_exporter": "python",
   "pygments_lexer": "ipython3",
   "version": "3.8.5"
  },
  "orig_nbformat": 2,
  "kernelspec": {
   "name": "python385jvsc74a57bd098b0a9b7b4eaaa670588a142fd0a9b87eaafe866f1db4228be72b4211d12040f",
   "display_name": "Python 3.8.5 64-bit ('base': conda)"
  }
 },
 "nbformat": 4,
 "nbformat_minor": 2,
 "cells": [
  {
   "source": [
    "# Demo\n",
    "\n",
    "We will be using the attributes gender, region, highest_education, age_band, num_of_prev_attempts, studied_credits, *imd_band, disability to predict the classifier final_result\n",
    "\n",
    "*imd_band is a measure of poverty based on area in the UK.\n",
    "\n",
    "|number|credit ranges|\n",
    "|------|-------------|\n",
    "|1|<=60|\n",
    "|2|60-120|\n",
    "|3|120-180|\n",
    "|4|180-240|\n",
    "|5|240<"
   ],
   "cell_type": "markdown",
   "metadata": {}
  },
  {
   "cell_type": "code",
   "execution_count": 19,
   "metadata": {
    "tags": [
     "outputPrepend"
    ]
   },
   "outputs": [
    {
     "output_type": "stream",
     "name": "stdout",
     "text": [
      "ass', 'Fail', 'Pass', 'Pass', 'Pass', 'Pass', 'Pass', 'Pass', 'Pass', 'Pass', 'Pass', 'Pass', 'Pass', 'Pass', 'Withdrawn', 'Withdrawn', 'Pass', 'Pass', 'Fail', 'Pass', 'Pass', 'Pass', 'Pass', 'Pass', 'Pass', 'Withdrawn', 'Pass', 'Pass', 'Pass', 'Pass', 'Pass', 'Pass', 'Pass', 'Pass', 'Pass', 'Pass', 'Pass', 'Pass', 'Fail', 'Pass', 'Pass', 'Pass', 'Fail', 'Pass', 'Fail', 'Pass', 'Pass', 'Pass', 'Pass', 'Pass', 'Pass', 'Fail', 'Fail', 'Fail', 'Fail', 'Pass', 'Pass', 'Withdrawn', 'Fail', 'Pass', 'Fail', 'Fail', 'Fail', 'Pass', 'Withdrawn', 'Pass', 'Pass', 'Pass', 'Pass', 'Withdrawn', 'Pass', 'Withdrawn', 'Pass', 'Withdrawn', 'Pass', 'Pass', 'Withdrawn', 'Pass', 'Pass', 'Pass', 'Withdrawn', 'Pass', 'Pass', 'Pass', 'Withdrawn', 'Pass', 'Pass', 'Pass', 'Withdrawn', 'Withdrawn', 'Pass', 'Pass', 'Pass', 'Withdrawn', 'Pass', 'Fail', 'Distinction', 'Withdrawn', 'Pass', 'Withdrawn', 'Fail', 'Fail', 'Pass', 'Pass', 'Withdrawn', 'Withdrawn', 'Withdrawn', 'Pass', 'Withdrawn', 'Pass', 'Fail', 'Withdrawn', 'Pass', 'Pass', 'Pass', 'Pass', 'Withdrawn', 'Pass', 'Withdrawn', 'Withdrawn', 'Pass', 'Pass', 'Withdrawn', 'Withdrawn', 'Fail', 'Fail', 'Fail', 'Withdrawn', 'Pass', 'Withdrawn', 'Fail', 'Pass', 'Withdrawn', 'Withdrawn', 'Pass', 'Pass', 'Pass', 'Withdrawn', 'Withdrawn', 'Withdrawn', 'Pass', 'Fail', 'Pass', 'Pass', 'Pass', 'Withdrawn', 'Withdrawn', 'Withdrawn', 'Withdrawn', 'Withdrawn', 'Pass', 'Pass', 'Pass', 'Pass', 'Withdrawn', 'Pass', 'Withdrawn', 'Pass', 'Withdrawn', 'Withdrawn', 'Pass', 'Fail', 'Fail', 'Withdrawn', 'Withdrawn', 'Withdrawn', 'Pass', 'Pass', 'Withdrawn', 'Withdrawn', 'Pass', 'Pass', 'Withdrawn', 'Pass', 'Withdrawn', 'Withdrawn', 'Withdrawn', 'Withdrawn', 'Withdrawn', 'Pass', 'Withdrawn', 'Pass', 'Withdrawn', 'Fail', 'Fail', 'Pass', 'Withdrawn', 'Fail', 'Withdrawn', 'Pass', 'Withdrawn', 'Pass', 'Pass', 'Withdrawn', 'Withdrawn', 'Fail', 'Withdrawn', 'Withdrawn', 'Withdrawn', 'Fail', 'Pass', 'Pass', 'Pass', 'Withdrawn', 'Withdrawn', 'Withdrawn', 'Withdrawn', 'Pass', 'Pass', 'Withdrawn', 'Withdrawn', 'Withdrawn', 'Pass', 'Withdrawn', 'Pass', 'Withdrawn', 'Pass', 'Pass', 'Withdrawn', 'Pass', 'Pass', 'Withdrawn', 'Pass', 'Pass', 'Withdrawn', 'Withdrawn', 'Pass', 'Withdrawn', 'Pass', 'Withdrawn', 'Pass', 'Withdrawn', 'Withdrawn', 'Withdrawn', 'Fail', 'Pass', 'Pass', 'Pass', 'Pass', 'Withdrawn', 'Pass', 'Fail', 'Pass', 'Withdrawn', 'Withdrawn', 'Pass', 'Pass', 'Pass', 'Withdrawn', 'Withdrawn', 'Withdrawn', 'Pass', 'Withdrawn', 'Withdrawn', 'Pass', 'Withdrawn', 'Pass', 'Pass', 'Pass', 'Withdrawn', 'Fail', 'Fail', 'Withdrawn', 'Withdrawn', 'Pass', 'Withdrawn', 'Pass', 'Pass', 'Pass', 'Pass', 'Fail', 'Withdrawn', 'Pass', 'Withdrawn', 'Withdrawn', 'Distinction', 'Withdrawn', 'Pass', 'Pass', 'Withdrawn', 'Withdrawn', 'Pass', 'Withdrawn', 'Fail', 'Withdrawn', 'Pass', 'Withdrawn', 'Pass', 'Withdrawn', 'Withdrawn', 'Pass', 'Pass', 'Withdrawn', 'Withdrawn', 'Withdrawn', 'Pass', 'Withdrawn', 'Pass', 'Withdrawn', 'Fail', 'Withdrawn', 'Withdrawn', 'Withdrawn', 'Fail', 'Withdrawn', 'Pass', 'Pass', 'Pass', 'Withdrawn', 'Withdrawn', 'Pass', 'Pass', 'Pass', 'Withdrawn', 'Withdrawn', 'Pass', 'Fail', 'Withdrawn', 'Pass', 'Fail', 'Withdrawn', 'Pass', 'Pass', 'Withdrawn', 'Pass', 'Pass', 'Withdrawn', 'Withdrawn', 'Pass', 'Withdrawn', 'Withdrawn', 'Withdrawn', 'Withdrawn', 'Withdrawn', 'Withdrawn', 'Withdrawn', 'Pass', 'Withdrawn', 'Withdrawn', 'Pass', 'Withdrawn', 'Withdrawn', 'Withdrawn', 'Withdrawn', 'Fail', 'Pass', 'Pass', 'Fail', 'Withdrawn', 'Pass', 'Withdrawn', 'Pass', 'Pass', 'Pass', 'Withdrawn', 'Withdrawn', 'Fail', 'Withdrawn', 'Withdrawn', 'Pass', 'Pass', 'Withdrawn', 'Pass', 'Withdrawn', 'Withdrawn', 'Pass', 'Pass', 'Pass', 'Withdrawn', 'Pass', 'Withdrawn', 'Distinction', 'Pass', 'Withdrawn', 'Withdrawn', 'Pass', 'Withdrawn', 'Pass', 'Pass', 'Fail', 'Fail', 'Withdrawn', 'Fail', 'Pass', 'Pass', 'Pass', 'Withdrawn', 'Withdrawn', 'Pass', 'Withdrawn', 'Pass', 'Withdrawn', 'Distinction', 'Withdrawn', 'Pass', 'Withdrawn', 'Pass', 'Pass', 'Withdrawn', 'Fail', 'Fail', 'Pass', 'Pass', 'Fail', 'Pass', 'Withdrawn', 'Withdrawn', 'Pass', 'Pass', 'Withdrawn', 'Pass', 'Withdrawn', 'Withdrawn', 'Pass', 'Withdrawn', 'Withdrawn', 'Pass', 'Pass', 'Withdrawn', 'Withdrawn', 'Pass', 'Fail', 'Pass', 'Pass', 'Withdrawn', 'Pass', 'Pass', 'Fail', 'Pass', 'Withdrawn', 'Withdrawn', 'Pass', 'Distinction', 'Pass', 'Withdrawn', 'Pass', 'Pass', 'Pass', 'Fail', 'Withdrawn', 'Fail', 'Pass', 'Fail', 'Pass', 'Pass', 'Pass', 'Withdrawn', 'Withdrawn', 'Pass', 'Fail', 'Pass', 'Withdrawn', 'Withdrawn', 'Pass', 'Withdrawn', 'Withdrawn', 'Withdrawn', 'Withdrawn', 'Withdrawn', 'Withdrawn', 'Withdrawn', 'Pass', 'Withdrawn', 'Withdrawn', 'Withdrawn', 'Fail', 'Pass', 'Fail', 'Withdrawn', 'Pass', 'Pass', 'Withdrawn', 'Withdrawn', 'Pass', 'Fail', 'Pass', 'Withdrawn', 'Withdrawn', 'Withdrawn', 'Pass', 'Fail', 'Fail', 'Withdrawn', 'Withdrawn', 'Pass', 'Withdrawn', 'Withdrawn', 'Withdrawn', 'Withdrawn', 'Withdrawn', 'Pass', 'Pass', 'Withdrawn', 'Pass', 'Pass', 'Fail', 'Pass', 'Pass', 'Pass', 'Pass', 'Pass', 'Pass', 'Withdrawn', 'Withdrawn', 'Pass', 'Withdrawn', 'Pass', 'Pass', 'Withdrawn', 'Pass', 'Pass', 'Pass', 'Withdrawn', 'Pass', 'Pass', 'Pass', 'Pass', 'Pass', 'Withdrawn', 'Withdrawn', 'Withdrawn', 'Withdrawn', 'Withdrawn', 'Withdrawn', 'Pass', 'Pass', 'Pass', 'Withdrawn', 'Pass', 'Distinction', 'Pass', 'Pass', 'Pass', 'Withdrawn', 'Pass', 'Pass', 'Pass', 'Withdrawn', 'Pass', 'Withdrawn', 'Pass', 'Pass', 'Pass', 'Pass', 'Pass', 'Withdrawn', 'Pass', 'Withdrawn', 'Withdrawn', 'Withdrawn', 'Pass', 'Withdrawn', 'Pass', 'Withdrawn', 'Withdrawn', 'Withdrawn', 'Withdrawn', 'Pass', 'Pass', 'Pass', 'Withdrawn', 'Distinction', 'Distinction', 'Pass', 'Withdrawn', 'Pass', 'Pass', 'Pass', 'Fail', 'Pass', 'Withdrawn', 'Withdrawn', 'Pass', 'Pass', 'Withdrawn', 'Withdrawn', 'Fail', 'Fail', 'Pass', 'Pass', 'Pass', 'Withdrawn', 'Fail', 'Withdrawn', 'Withdrawn', 'Pass', 'Withdrawn', 'Withdrawn', 'Withdrawn', 'Withdrawn', 'Pass', 'Withdrawn', 'Withdrawn', 'Withdrawn', 'Withdrawn', 'Pass', 'Pass', 'Pass', 'Withdrawn', 'Withdrawn', 'Pass', 'Pass', 'Pass', 'Withdrawn', 'Pass', 'Fail', 'Distinction', 'Withdrawn', 'Pass', 'Pass', 'Withdrawn', 'Withdrawn', 'Pass', 'Pass', 'Withdrawn', 'Pass', 'Withdrawn', 'Withdrawn', 'Withdrawn', 'Fail', 'Pass', 'Pass', 'Withdrawn', 'Fail', 'Withdrawn', 'Withdrawn', 'Pass', 'Withdrawn', 'Withdrawn', 'Withdrawn', 'Pass', 'Fail', 'Withdrawn', 'Withdrawn', 'Withdrawn', 'Withdrawn', 'Pass', 'Pass', 'Withdrawn', 'Withdrawn', 'Pass', 'Pass', 'Withdrawn', 'Pass', 'Pass', 'Pass', 'Pass', 'Pass', 'Withdrawn', 'Pass', 'Pass', 'Withdrawn', 'Fail', 'Pass', 'Fail', 'Pass', 'Withdrawn', 'Pass', 'Pass', 'Withdrawn', 'Pass', 'Pass', 'Pass', 'Pass', 'Pass', 'Withdrawn', 'Pass', 'Withdrawn', 'Pass', 'Pass', 'Pass', 'Pass', 'Withdrawn', 'Pass', 'Withdrawn', 'Withdrawn', 'Pass', 'Pass', 'Withdrawn', 'Pass', 'Pass', 'Pass', 'Fail', 'Withdrawn', 'Pass', 'Withdrawn', 'Withdrawn', 'Pass', 'Pass', 'Withdrawn', 'Withdrawn', 'Withdrawn', 'Pass', 'Withdrawn', 'Pass', 'Withdrawn', 'Withdrawn', 'Fail', 'Withdrawn', 'Pass', 'Withdrawn', 'Withdrawn', 'Withdrawn', 'Fail', 'Pass', 'Withdrawn', 'Pass', 'Withdrawn', 'Pass', 'Pass', 'Pass', 'Pass', 'Pass', 'Withdrawn', 'Withdrawn', 'Pass', 'Pass', 'Pass', 'Pass', 'Withdrawn', 'Pass', 'Pass', 'Pass', 'Withdrawn', 'Withdrawn', 'Pass', 'Withdrawn', 'Pass', 'Pass', 'Withdrawn', 'Withdrawn', 'Pass', 'Withdrawn', 'Pass', 'Withdrawn', 'Withdrawn', 'Withdrawn', 'Pass', 'Pass', 'Pass', 'Withdrawn', 'Withdrawn', 'Fail', 'Withdrawn', 'Pass', 'Pass', 'Pass', 'Withdrawn', 'Withdrawn', 'Pass', 'Withdrawn', 'Pass', 'Withdrawn', 'Pass', 'Pass', 'Withdrawn', 'Pass', 'Pass', 'Pass', 'Fail', 'Pass', 'Pass', 'Pass', 'Withdrawn', 'Pass', 'Pass', 'Distinction', 'Withdrawn', 'Fail', 'Pass', 'Pass', 'Pass', 'Withdrawn', 'Pass', 'Withdrawn', 'Pass', 'Pass', 'Withdrawn', 'Fail', 'Pass', 'Pass', 'Withdrawn', 'Withdrawn', 'Withdrawn', 'Pass', 'Withdrawn', 'Pass', 'Withdrawn', 'Pass', 'Pass', 'Withdrawn', 'Pass', 'Withdrawn', 'Withdrawn', 'Pass', 'Pass', 'Withdrawn', 'Pass', 'Pass', 'Pass', 'Pass', 'Pass', 'Pass', 'Pass', 'Withdrawn', 'Pass', 'Fail', 'Withdrawn', 'Withdrawn', 'Pass', 'Withdrawn', 'Withdrawn', 'Withdrawn', 'Withdrawn', 'Pass', 'Withdrawn', 'Withdrawn', 'Withdrawn', 'Fail', 'Withdrawn', 'Withdrawn', 'Withdrawn', 'Withdrawn', 'Pass', 'Pass', 'Pass', 'Pass', 'Pass', 'Pass', 'Withdrawn', 'Withdrawn', 'Withdrawn', 'Withdrawn', 'Pass', 'Withdrawn', 'Withdrawn', 'Withdrawn', 'Withdrawn', 'Withdrawn', 'Pass', 'Withdrawn', 'Withdrawn', 'Pass', 'Withdrawn', 'Pass', 'Pass', 'Fail', 'Fail', 'Withdrawn', 'Withdrawn', 'Pass', 'Withdrawn', 'Fail', 'Fail', 'Pass', 'Withdrawn', 'Withdrawn', 'Withdrawn', 'Withdrawn', 'Withdrawn', 'Withdrawn', 'Pass', 'Pass', 'Pass', 'Pass', 'Fail', 'Withdrawn', 'Fail', 'Withdrawn', 'Withdrawn', 'Pass', 'Withdrawn', 'Pass', 'Withdrawn', 'Withdrawn', 'Withdrawn', 'Fail', 'Pass', 'Withdrawn', 'Fail', 'Withdrawn', 'Withdrawn', 'Pass', 'Withdrawn', 'Withdrawn', 'Pass', 'Withdrawn', 'Fail', 'Fail', 'Pass', 'Pass', 'Withdrawn', 'Withdrawn', 'Withdrawn', 'Pass', 'Fail', 'Withdrawn', 'Fail', 'Pass', 'Withdrawn', 'Pass', 'Pass', 'Pass', 'Pass', 'Pass', 'Fail', 'Fail', 'Withdrawn', 'Pass', 'Pass', 'Withdrawn', 'Withdrawn', 'Withdrawn', 'Withdrawn', 'Pass', 'Withdrawn', 'Withdrawn', 'Pass', 'Withdrawn', 'Pass', 'Withdrawn', 'Withdrawn', 'Withdrawn', 'Withdrawn', 'Pass', 'Pass', 'Pass', 'Withdrawn', 'Withdrawn', 'Withdrawn', 'Pass', 'Withdrawn', 'Fail', 'Withdrawn', 'Pass', 'Withdrawn', 'Pass', 'Withdrawn', 'Pass', 'Withdrawn', 'Withdrawn', 'Fail', 'Withdrawn', 'Withdrawn', 'Withdrawn', 'Fail', 'Withdrawn', 'Pass', 'Withdrawn', 'Withdrawn', 'Withdrawn', 'Withdrawn', 'Withdrawn', 'Fail', 'Pass', 'Withdrawn', 'Withdrawn', 'Pass', 'Pass', 'Withdrawn', 'Withdrawn', 'Withdrawn', 'Withdrawn', 'Pass', 'Withdrawn', 'Pass', 'Distinction', 'Withdrawn', 'Withdrawn', 'Pass', 'Pass', 'Fail', 'Pass', 'Withdrawn', 'Withdrawn', 'Withdrawn', 'Fail', 'Withdrawn', 'Withdrawn', 'Pass', 'Pass', 'Withdrawn', 'Pass', 'Withdrawn', 'Pass', 'Withdrawn', 'Pass', 'Pass', 'Pass', 'Pass', 'Pass', 'Withdrawn', 'Pass', 'Pass', 'Pass', 'Pass', 'Fail', 'Fail', 'Pass', 'Withdrawn', 'Fail', 'Withdrawn', 'Withdrawn', 'Withdrawn', 'Pass', 'Fail', 'Pass', 'Pass', 'Withdrawn', 'Withdrawn', 'Withdrawn', 'Fail', 'Pass', 'Withdrawn', 'Withdrawn', 'Pass', 'Withdrawn', 'Withdrawn', 'Withdrawn', 'Pass', 'Withdrawn', 'Pass', 'Withdrawn', 'Withdrawn', 'Pass', 'Withdrawn', 'Withdrawn', 'Pass', 'Pass', 'Fail', 'Pass', 'Pass', 'Pass', 'Fail', 'Fail', 'Pass', 'Pass', 'Pass', 'Pass', 'Fail', 'Pass', 'Withdrawn', 'Pass', 'Pass', 'Pass', 'Pass', 'Pass', 'Pass', 'Pass', 'Pass', 'Withdrawn', 'Fail', 'Pass', 'Pass', 'Pass', 'Fail', 'Pass', 'Fail', 'Pass', 'Pass', 'Distinction', 'Withdrawn', 'Withdrawn', 'Pass', 'Pass', 'Pass', 'Pass', 'Withdrawn', 'Pass', 'Withdrawn', 'Withdrawn', 'Pass', 'Pass', 'Pass', 'Withdrawn', 'Pass', 'Fail', 'Pass', 'Pass', 'Withdrawn', 'Withdrawn', 'Fail', 'Pass', 'Withdrawn', 'Pass', 'Withdrawn', 'Pass', 'Fail', 'Fail', 'Pass', 'Pass', 'Pass', 'Pass', 'Fail', 'Pass', 'Pass', 'Pass', 'Withdrawn', 'Pass', 'Pass', 'Withdrawn', 'Pass', 'Pass', 'Pass', 'Withdrawn', 'Withdrawn', 'Withdrawn', 'Pass', 'Fail', 'Pass', 'Pass', 'Pass', 'Pass', 'Pass', 'Withdrawn', 'Pass', 'Withdrawn', 'Pass', 'Pass', 'Pass', 'Withdrawn', 'Pass', 'Pass', 'Withdrawn', 'Pass', 'Fail', 'Pass', 'Withdrawn', 'Pass', 'Pass', 'Fail', 'Withdrawn', 'Pass', 'Withdrawn', 'Pass', 'Pass', 'Withdrawn', 'Fail', 'Withdrawn', 'Withdrawn', 'Pass', 'Pass', 'Withdrawn', 'Pass', 'Withdrawn', 'Fail', 'Pass', 'Withdrawn', 'Withdrawn', 'Withdrawn', 'Pass', 'Withdrawn', 'Pass', 'Withdrawn', 'Pass', 'Pass', 'Withdrawn', 'Pass', 'Pass', 'Withdrawn', 'Pass', 'Withdrawn', 'Pass', 'Fail', 'Withdrawn', 'Pass', 'Withdrawn', 'Distinction', 'Pass', 'Pass', 'Pass', 'Pass', 'Pass', 'Pass', 'Fail', 'Pass', 'Pass', 'Withdrawn', 'Withdrawn', 'Withdrawn', 'Withdrawn', 'Withdrawn', 'Withdrawn', 'Pass', 'Withdrawn', 'Withdrawn', 'Pass', 'Pass', 'Fail', 'Pass', 'Pass', 'Withdrawn', 'Withdrawn', 'Withdrawn', 'Pass', 'Withdrawn', 'Withdrawn', 'Withdrawn', 'Withdrawn', 'Pass', 'Fail', 'Pass', 'Pass', 'Pass', 'Withdrawn', 'Pass', 'Pass', 'Withdrawn', 'Fail', 'Pass', 'Pass', 'Withdrawn', 'Pass', 'Pass', 'Pass', 'Fail', 'Pass', 'Pass', 'Withdrawn', 'Pass', 'Fail', 'Fail', 'Pass', 'Pass', 'Fail', 'Fail', 'Fail', 'Withdrawn', 'Pass', 'Pass', 'Pass', 'Withdrawn', 'Withdrawn', 'Withdrawn', 'Withdrawn', 'Pass', 'Fail', 'Fail', 'Withdrawn', 'Fail', 'Fail', 'Pass', 'Pass', 'Pass', 'Withdrawn', 'Withdrawn', 'Pass', 'Pass', 'Withdrawn', 'Pass', 'Fail', 'Pass', 'Pass', 'Pass', 'Pass', 'Withdrawn', 'Pass', 'Withdrawn', 'Pass', 'Pass', 'Fail', 'Withdrawn', 'Pass', 'Withdrawn', 'Pass', 'Fail', 'Pass', 'Pass', 'Withdrawn', 'Fail', 'Pass', 'Pass', 'Withdrawn', 'Withdrawn', 'Pass', 'Pass', 'Withdrawn', 'Pass', 'Pass', 'Pass', 'Pass', 'Pass', 'Pass', 'Withdrawn', 'Pass', 'Withdrawn', 'Withdrawn', 'Withdrawn', 'Pass', 'Pass', 'Pass', 'Withdrawn', 'Withdrawn', 'Pass', 'Pass', 'Pass', 'Pass', 'Withdrawn', 'Pass', 'Pass', 'Pass', 'Pass', 'Pass', 'Pass', 'Withdrawn', 'Pass', 'Fail', 'Pass', 'Pass', 'Pass', 'Pass', 'Withdrawn', 'Fail', 'Withdrawn', 'Pass', 'Withdrawn', 'Withdrawn', 'Fail', 'Pass', 'Pass', 'Withdrawn', 'Pass', 'Pass', 'Pass', 'Withdrawn', 'Withdrawn', 'Withdrawn', 'Withdrawn', 'Pass', 'Pass', 'Pass', 'Withdrawn', 'Withdrawn', 'Withdrawn', 'Withdrawn', 'Withdrawn', 'Withdrawn', 'Withdrawn', 'Pass', 'Fail', 'Withdrawn', 'Pass', 'Fail', 'Fail', 'Pass', 'Pass', 'Pass', 'Pass', 'Pass', 'Pass', 'Pass', 'Withdrawn', 'Withdrawn', 'Pass', 'Pass', 'Pass', 'Pass', 'Pass', 'Pass', 'Withdrawn', 'Pass', 'Distinction', 'Withdrawn', 'Pass', 'Withdrawn', 'Withdrawn', 'Withdrawn', 'Withdrawn', 'Fail', 'Withdrawn', 'Pass', 'Withdrawn', 'Pass', 'Pass', 'Pass', 'Withdrawn', 'Pass', 'Withdrawn', 'Pass', 'Fail', 'Pass', 'Withdrawn', 'Fail', 'Withdrawn', 'Pass', 'Pass', 'Pass', 'Pass', 'Fail', 'Withdrawn', 'Pass', 'Pass', 'Pass', 'Withdrawn', 'Pass', 'Pass', 'Pass', 'Pass', 'Pass', 'Pass', 'Withdrawn', 'Pass', 'Withdrawn', 'Withdrawn', 'Withdrawn', 'Withdrawn', 'Pass', 'Pass', 'Fail', 'Pass', 'Pass', 'Pass', 'Pass', 'Pass', 'Pass', 'Pass', 'Withdrawn', 'Pass', 'Pass', 'Pass', 'Withdrawn', 'Withdrawn', 'Pass', 'Withdrawn', 'Pass', 'Withdrawn', 'Fail', 'Pass', 'Pass', 'Pass', 'Withdrawn', 'Fail', 'Pass', 'Pass', 'Withdrawn', 'Pass', 'Pass', 'Pass', 'Pass', 'Fail', 'Withdrawn', 'Pass', 'Fail', 'Pass', 'Withdrawn', 'Withdrawn', 'Pass', 'Withdrawn', 'Withdrawn', 'Withdrawn', 'Pass', 'Pass', 'Withdrawn', 'Withdrawn', 'Pass', 'Pass', 'Withdrawn', 'Fail', 'Pass', 'Pass', 'Distinction', 'Pass', 'Pass', 'Pass', 'Pass', 'Pass', 'Pass', 'Pass', 'Pass', 'Pass', 'Fail', 'Distinction', 'Pass', 'Pass', 'Withdrawn', 'Withdrawn', 'Pass', 'Withdrawn', 'Pass', 'Pass', 'Pass', 'Withdrawn', 'Pass', 'Pass', 'Pass', 'Pass', 'Fail', 'Pass', 'Pass', 'Withdrawn', 'Pass', 'Pass', 'Withdrawn', 'Pass', 'Withdrawn', 'Pass', 'Pass', 'Pass', 'Pass', 'Pass', 'Withdrawn', 'Pass', 'Withdrawn', 'Pass', 'Pass', 'Pass', 'Withdrawn', 'Withdrawn', 'Withdrawn', 'Pass', 'Pass', 'Withdrawn', 'Fail', 'Withdrawn', 'Pass', 'Pass', 'Withdrawn', 'Pass', 'Withdrawn', 'Withdrawn', 'Pass', 'Pass', 'Withdrawn', 'Pass', 'Pass', 'Pass', 'Withdrawn', 'Pass', 'Withdrawn', 'Withdrawn', 'Pass', 'Pass', 'Withdrawn', 'Pass', 'Pass', 'Pass', 'Withdrawn', 'Fail', 'Fail', 'Withdrawn', 'Fail', 'Withdrawn', 'Pass', 'Withdrawn', 'Withdrawn', 'Pass', 'Pass', 'Pass', 'Pass', 'Pass', 'Pass', 'Pass', 'Withdrawn', 'Pass', 'Fail', 'Pass', 'Pass', 'Fail', 'Pass', 'Fail', 'Withdrawn', 'Withdrawn', 'Withdrawn', 'Withdrawn', 'Withdrawn', 'Pass', 'Pass', 'Pass', 'Withdrawn', 'Pass', 'Withdrawn', 'Pass', 'Withdrawn', 'Withdrawn', 'Pass', 'Pass', 'Pass', 'Fail', 'Withdrawn', 'Pass', 'Pass', 'Fail', 'Withdrawn', 'Fail', 'Withdrawn', 'Pass', 'Fail', 'Withdrawn', 'Pass', 'Pass', 'Pass', 'Pass', 'Withdrawn', 'Pass', 'Withdrawn', 'Pass', 'Withdrawn', 'Pass', 'Pass', 'Withdrawn', 'Withdrawn', 'Distinction', 'Withdrawn', 'Pass', 'Withdrawn', 'Distinction', 'Withdrawn', 'Pass', 'Withdrawn', 'Withdrawn', 'Pass', 'Withdrawn', 'Pass', 'Pass', 'Withdrawn', 'Withdrawn', 'Pass', 'Pass', 'Withdrawn', 'Withdrawn', 'Withdrawn', 'Pass', 'Fail', 'Pass', 'Withdrawn', 'Pass', 'Pass', 'Fail', 'Withdrawn', 'Pass', 'Pass', 'Pass', 'Pass', 'Withdrawn', 'Pass', 'Withdrawn', 'Withdrawn', 'Pass', 'Pass', 'Pass', 'Pass', 'Pass', 'Fail', 'Pass', 'Fail', 'Withdrawn', 'Pass', 'Pass', 'Pass', 'Withdrawn', 'Pass', 'Withdrawn', 'Fail', 'Pass', 'Pass', 'Withdrawn', 'Fail', 'Pass', 'Withdrawn', 'Withdrawn', 'Pass', 'Pass', 'Withdrawn', 'Pass', 'Pass', 'Pass', 'Pass', 'Withdrawn', 'Withdrawn', 'Fail', 'Pass', 'Fail', 'Pass', 'Withdrawn', 'Fail', 'Withdrawn', 'Pass', 'Pass', 'Fail', 'Pass', 'Pass', 'Pass', 'Pass', 'Pass', 'Fail', 'Pass', 'Pass', 'Pass', 'Pass', 'Pass', 'Pass', 'Fail', 'Pass', 'Fail', 'Pass', 'Pass', 'Pass', 'Pass', 'Pass', 'Pass', 'Pass', 'Pass', 'Pass', 'Pass', 'Pass', 'Pass', 'Withdrawn', 'Pass', 'Pass', 'Pass', 'Pass', 'Pass', 'Fail', 'Pass', 'Pass', 'Pass', 'Pass', 'Fail', 'Fail', 'Pass', 'Pass', 'Fail', 'Fail', 'Pass', 'Fail', 'Pass', 'Fail', 'Fail', 'Fail', 'Pass', 'Pass', 'Pass', 'Pass', 'Withdrawn', 'Fail', 'Pass', 'Pass', 'Pass', 'Fail', 'Pass', 'Fail', 'Pass', 'Pass', 'Pass', 'Pass', 'Pass', 'Pass', 'Fail', 'Fail', 'Pass', 'Withdrawn', 'Pass', 'Fail', 'Withdrawn', 'Pass', 'Pass', 'Withdrawn', 'Pass', 'Pass', 'Pass', 'Pass', 'Pass', 'Pass', 'Pass', 'Pass', 'Pass', 'Pass', 'Withdrawn', 'Pass', 'Pass', 'Pass', 'Pass', 'Withdrawn', 'Withdrawn', 'Pass', 'Pass', 'Pass', 'Pass', 'Pass', 'Withdrawn', 'Pass', 'Pass', 'Pass', 'Pass', 'Pass', 'Pass', 'Pass', 'Withdrawn', 'Pass', 'Pass', 'Pass', 'Pass', 'Pass', 'Pass', 'Pass', 'Pass', 'Withdrawn', 'Withdrawn', 'Pass', 'Pass', 'Withdrawn', 'Pass', 'Pass', 'Withdrawn', 'Pass', 'Pass', 'Withdrawn', 'Pass', 'Pass', 'Pass', 'Withdrawn', 'Pass', 'Pass', 'Withdrawn', 'Withdrawn', 'Pass', 'Fail', 'Pass', 'Pass', 'Pass', 'Pass', 'Pass', 'Pass', 'Pass', 'Pass', 'Pass', 'Pass', 'Pass', 'Pass', 'Distinction', 'Withdrawn', 'Pass', 'Pass', 'Withdrawn', 'Pass', 'Pass', 'Withdrawn', 'Distinction', 'Pass', 'Pass', 'Withdrawn', 'Pass', 'Withdrawn', 'Pass', 'Pass', 'Withdrawn', 'Pass', 'Pass', 'Distinction', 'Pass', 'Pass', 'Pass', 'Pass', 'Pass', 'Pass', 'Withdrawn', 'Withdrawn', 'Withdrawn', 'Pass', 'Pass', 'Pass', 'Fail', 'Pass', 'Pass', 'Pass', 'Withdrawn', 'Pass', 'Withdrawn', 'Pass', 'Pass', 'Withdrawn', 'Pass', 'Pass', 'Pass', 'Withdrawn', 'Pass', 'Pass', 'Pass', 'Pass', 'Pass', 'Withdrawn', 'Pass', 'Pass', 'Pass', 'Pass', 'Withdrawn', 'Distinction', 'Pass', 'Pass', 'Pass', 'Pass', 'Withdrawn', 'Pass', 'Pass', 'Withdrawn', 'Withdrawn', 'Pass', 'Withdrawn', 'Pass', 'Fail', 'Pass', 'Pass', 'Fail', 'Pass', 'Pass', 'Fail', 'Pass', 'Pass', 'Pass', 'Pass', 'Pass', 'Pass', 'Withdrawn', 'Pass', 'Pass', 'Pass', 'Pass', 'Pass', 'Pass', 'Pass', 'Pass', 'Pass', 'Pass', 'Pass', 'Withdrawn', 'Pass', 'Pass', 'Withdrawn', 'Pass', 'Withdrawn', 'Withdrawn', 'Withdrawn', 'Pass', 'Pass', 'Withdrawn', 'Pass', 'Pass', 'Pass', 'Withdrawn', 'Withdrawn', 'Pass', 'Pass', 'Pass', 'Withdrawn', 'Pass', 'Pass', 'Withdrawn', 'Pass', 'Pass', 'Withdrawn', 'Withdrawn', 'Pass', 'Pass', 'Withdrawn', 'Withdrawn', 'Pass', 'Pass', 'Pass', 'Pass', 'Pass', 'Pass', 'Fail', 'Pass', 'Pass', 'Pass', 'Pass', 'Fail', 'Pass', 'Pass', 'Pass', 'Pass', 'Withdrawn', 'Pass', 'Pass', 'Pass', 'Pass', 'Distinction', 'Withdrawn', 'Withdrawn', 'Fail', 'Pass', 'Pass', 'Withdrawn', 'Pass', 'Pass', 'Pass', 'Pass', 'Withdrawn', 'Pass', 'Pass', 'Withdrawn', 'Pass', 'Pass', 'Pass', 'Pass', 'Pass', 'Pass', 'Pass', 'Pass', 'Distinction', 'Pass', 'Pass', 'Distinction', 'Pass', 'Pass', 'Pass', 'Pass', 'Pass', 'Pass', 'Pass', 'Pass', 'Pass', 'Pass', 'Pass', 'Pass', 'Pass', 'Fail', 'Pass', 'Pass', 'Fail', 'Pass', 'Pass', 'Pass', 'Pass', 'Pass', 'Pass', 'Pass', 'Withdrawn', 'Pass', 'Distinction', 'Distinction', 'Distinction']\n"
     ]
    },
    {
     "output_type": "error",
     "ename": "ValueError",
     "evalue": "None is not in list",
     "traceback": [
      "\u001b[0;31m---------------------------------------------------------------------------\u001b[0m",
      "\u001b[0;31mValueError\u001b[0m                                Traceback (most recent call last)",
      "\u001b[0;32m<ipython-input-19-8a7e1f415fb7>\u001b[0m in \u001b[0;36m<module>\u001b[0;34m\u001b[0m\n\u001b[1;32m     81\u001b[0m \u001b[0mprint\u001b[0m\u001b[0;34m(\u001b[0m\u001b[0mtotal_tree\u001b[0m\u001b[0;34m)\u001b[0m\u001b[0;34m\u001b[0m\u001b[0;34m\u001b[0m\u001b[0m\n\u001b[1;32m     82\u001b[0m \u001b[0;34m\u001b[0m\u001b[0m\n\u001b[0;32m---> 83\u001b[0;31m \u001b[0mtree_matrix\u001b[0m \u001b[0;34m=\u001b[0m \u001b[0mmyevaluation\u001b[0m\u001b[0;34m.\u001b[0m\u001b[0mconfusion_matrix\u001b[0m\u001b[0;34m(\u001b[0m\u001b[0mtotal_expected\u001b[0m\u001b[0;34m,\u001b[0m \u001b[0mtotal_tree\u001b[0m\u001b[0;34m,\u001b[0m \u001b[0;34m[\u001b[0m\u001b[0;34m\"Pass\"\u001b[0m\u001b[0;34m,\u001b[0m\u001b[0;34m\"Withdrawn\"\u001b[0m\u001b[0;34m,\u001b[0m \u001b[0;34m\"Fail\"\u001b[0m\u001b[0;34m,\u001b[0m \u001b[0;34m\"Distinction\"\u001b[0m\u001b[0;34m]\u001b[0m\u001b[0;34m)\u001b[0m\u001b[0;34m\u001b[0m\u001b[0;34m\u001b[0m\u001b[0m\n\u001b[0m\u001b[1;32m     84\u001b[0m \u001b[0;34m\u001b[0m\u001b[0m\n\u001b[1;32m     85\u001b[0m \u001b[0;32mfor\u001b[0m \u001b[0mi\u001b[0m \u001b[0;32min\u001b[0m \u001b[0mrange\u001b[0m\u001b[0;34m(\u001b[0m\u001b[0mlen\u001b[0m\u001b[0;34m(\u001b[0m\u001b[0mtree_matrix\u001b[0m\u001b[0;34m)\u001b[0m\u001b[0;34m)\u001b[0m\u001b[0;34m:\u001b[0m\u001b[0;34m\u001b[0m\u001b[0;34m\u001b[0m\u001b[0m\n",
      "\u001b[0;32m/home/CPSC322-Final-Project/mysklearn/myevaluation.py\u001b[0m in \u001b[0;36mconfusion_matrix\u001b[0;34m(y_true, y_pred, labels)\u001b[0m\n\u001b[1;32m    154\u001b[0m             \u001b[0my_true\u001b[0m\u001b[0;34m[\u001b[0m\u001b[0mi\u001b[0m\u001b[0;34m]\u001b[0m \u001b[0;34m=\u001b[0m \u001b[0mlabels\u001b[0m\u001b[0;34m.\u001b[0m\u001b[0mindex\u001b[0m\u001b[0;34m(\u001b[0m\u001b[0my_true\u001b[0m\u001b[0;34m[\u001b[0m\u001b[0mi\u001b[0m\u001b[0;34m]\u001b[0m\u001b[0;34m)\u001b[0m\u001b[0;34m\u001b[0m\u001b[0;34m\u001b[0m\u001b[0m\n\u001b[1;32m    155\u001b[0m \u001b[0;34m\u001b[0m\u001b[0m\n\u001b[0;32m--> 156\u001b[0;31m             \u001b[0my_pred\u001b[0m\u001b[0;34m[\u001b[0m\u001b[0mi\u001b[0m\u001b[0;34m]\u001b[0m \u001b[0;34m=\u001b[0m \u001b[0mlabels\u001b[0m\u001b[0;34m.\u001b[0m\u001b[0mindex\u001b[0m\u001b[0;34m(\u001b[0m\u001b[0my_pred\u001b[0m\u001b[0;34m[\u001b[0m\u001b[0mi\u001b[0m\u001b[0;34m]\u001b[0m\u001b[0;34m)\u001b[0m\u001b[0;34m\u001b[0m\u001b[0;34m\u001b[0m\u001b[0m\n\u001b[0m\u001b[1;32m    157\u001b[0m         \u001b[0mmy_matrix\u001b[0m\u001b[0;34m[\u001b[0m\u001b[0my_true\u001b[0m\u001b[0;34m[\u001b[0m\u001b[0mi\u001b[0m\u001b[0;34m]\u001b[0m\u001b[0;34m]\u001b[0m\u001b[0;34m[\u001b[0m\u001b[0my_pred\u001b[0m\u001b[0;34m[\u001b[0m\u001b[0mi\u001b[0m\u001b[0;34m]\u001b[0m\u001b[0;34m]\u001b[0m \u001b[0;34m+=\u001b[0m \u001b[0;36m1\u001b[0m\u001b[0;34m\u001b[0m\u001b[0;34m\u001b[0m\u001b[0m\n\u001b[1;32m    158\u001b[0m \u001b[0;34m\u001b[0m\u001b[0m\n",
      "\u001b[0;31mValueError\u001b[0m: None is not in list"
     ]
    }
   ],
   "source": [
    "import importlib\n",
    "\n",
    "from tabulate import tabulate\n",
    "import mysklearn.myutils\n",
    "importlib.reload(mysklearn.myutils)\n",
    "import mysklearn.myutils as myutils\n",
    "\n",
    "import mysklearn.mypytable\n",
    "importlib.reload(mysklearn.mypytable)\n",
    "from mysklearn.mypytable import MyPyTable \n",
    "\n",
    "import mysklearn.myclassifiers\n",
    "importlib.reload(mysklearn.myclassifiers)\n",
    "from mysklearn.myclassifiers import MyKNeighborsClassifier, MySimpleLinearRegressor, MyNaiveBayesClassifier, MyDecisionTreeClassifier\n",
    "\n",
    "import mysklearn.myevaluation\n",
    "importlib.reload(mysklearn.myevaluation)\n",
    "import mysklearn.myevaluation as myevaluation\n",
    "\n",
    "student_data = MyPyTable().load_from_file(\"input_data/studentInfo.csv\")\n",
    "# remove missing values\n",
    "student_data.remove_rows_with_missing_values()\n",
    "\n",
    "gender = student_data.get_column(\"gender\")\n",
    "region = student_data.get_column(\"region\")\n",
    "highest_education = student_data.get_column(\"highest_education\") \n",
    "age_band = student_data.get_column(\"age_band\")\n",
    "num_of_prev_attempts = student_data.get_column(\"num_of_prev_attempts\") \n",
    "studied_credits = student_data.get_column(\"studied_credits\")\n",
    "imd_band = student_data.get_column(\"imd_band\")\n",
    "disability = student_data.get_column(\"disability\")\n",
    "final_result = student_data.get_column(\"final_result\")\n",
    "\n",
    "student_train_folds, student_test_folds = myevaluation.stratified_kfold_cross_validation(student_data.data, final_result, 10) \n",
    "\n",
    "student_test = []\n",
    "student_train = []\n",
    "\n",
    "final_results_test = []\n",
    "final_results_train = []\n",
    "\n",
    "# turn indexes into data sets\n",
    "for row in student_train_folds:\n",
    "    student_set = []\n",
    "    final_results_set = []\n",
    "    for item in row:\n",
    "        student_set.append(student_data.data[item][3:10])\n",
    "        final_results_set.append(student_data.data[item][-1])\n",
    "    student_train.append(student_set)\n",
    "    final_results_train.append(final_results_set)\n",
    "\n",
    "# turn indexes into data sets\n",
    "for row in student_test_folds:\n",
    "    student_set = []\n",
    "    final_results_set = []\n",
    "    for item in row:\n",
    "        student_set.append(student_data.data[item][3:10])\n",
    "        final_results_set.append(student_data.data[item][-1])\n",
    "    student_test.append(student_set)\n",
    "    final_results_test.append(final_results_set)\n",
    "\n",
    "#Tree model\n",
    "total_tree = []\n",
    "total_expected = []\n",
    "for i in range(10):\n",
    "    student_tree = MyDecisionTreeClassifier()    \n",
    "    student_tree.fit(student_train[i],final_results_train[i])\n",
    "    tree_predictions = student_tree.predict(student_test[i])\n",
    "    total_tree.extend(tree_predictions)\n",
    "    total_expected.extend(final_results_test[i])\n",
    "\n",
    "print(\"===========================================\")\n",
    "print(\"Predictive Accuracy\")\n",
    "print(\"===========================================\")\n",
    "print(\"Stratified 10-Fold Cross Validation\")\n",
    "accuracy, errorrate = myutils.accuracy_errorrate(total_tree, total_expected)\n",
    "print(\"Tree: accuracy = \", accuracy, \"error rate = \", errorrate)\n",
    "\n",
    "print(total_expected)\n",
    "print(\"_______________\")\n",
    "print(total_tree)\n",
    "\n",
    "tree_matrix = myevaluation.confusion_matrix(total_expected, total_tree, [\"Pass\",\"Withdrawn\", \"Fail\", \"Distinction\"])\n",
    "\n",
    "for i in range(len(tree_matrix)):\n",
    "    total = 0\n",
    "    rec = 0\n",
    "    for item in tree_matrix[i]:\n",
    "        total += item\n",
    "    true_pos = tree_matrix[i][i]\n",
    "    if total != 0:\n",
    "        rec = (true_pos/total)*100\n",
    "    tree_matrix[i].append(total)\n",
    "    tree_matrix[i].append(rec)\n",
    "\n",
    "tree_matrix[0].insert(0, \"Pass\")\n",
    "tree_matrix[1].insert(0, \"Withdrawn\")\n",
    "tree_matrix[2].insert(0, \"Fail\")\n",
    "tree_matrix[3].insert(0, \"Distinction\")\n",
    "\n",
    "print(\"Decision Tree (Stratified 10 Fold Cross Validation Results)\")\n",
    "print(tabulate(tree_matrix, [\"Final Result\",\"Pass\",\"Withdrawn\",\"Fail\", \"Distinction\",\"total\", \"Recognition %\"]))\n",
    "\n",
    "\n",
    "\n",
    "\n"
   ]
  },
  {
   "cell_type": "code",
   "execution_count": null,
   "metadata": {},
   "outputs": [],
   "source": []
  }
 ]
}