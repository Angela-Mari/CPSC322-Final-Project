{
  "nbformat": 4,
  "nbformat_minor": 0,
  "metadata": {
    "colab": {
      "name": "CPSC322-Final-Project-Proposal.ipynb",
      "provenance": [],
      "collapsed_sections": [],
      "include_colab_link": true
    },
    "kernelspec": {
      "name": "python3",
      "display_name": "Python 3"
    },
    "language_info": {
      "name": "python"
    }
  },
  "cells": [
    {
      "cell_type": "markdown",
      "metadata": {
        "id": "view-in-github",
        "colab_type": "text"
      },
      "source": [
        "<a href=\"https://colab.research.google.com/github/Angela-Mari/CPSC322-Final-Project/blob/master/CPSC322_Final_Project_Proposal.ipynb\" target=\"_parent\"><img src=\"https://colab.research.google.com/assets/colab-badge.svg\" alt=\"Open In Colab\"/></a>"
      ]
    },
    {
      "cell_type": "markdown",
      "metadata": {
        "id": "3642W8yrw6sx"
      },
      "source": [
        "# Final Project Proposal\n",
        "## Mia Brasil and Angela George\n",
        "### Dataset Description\n",
        "The dataset includes two different tables. One has attributes like id number, year, gender, race, cohort, years to graduate, and graduation rate. The other gives data on the university itself such as univerisity name, student count, financial aid, location, and transfer rates. The data is split into two different csv files which we will merge in order to perform our analysis. The source of the data is the College Completion microsite produced by The Chronicle of Higher Education with support from the Bill & Melinda Gates Foundation. With data merged, we will use student demographics data to predict how long the students takes to graduate. \n",
        "### Implementation/technical merit\n",
        "As stated above, the data is split into two separate files. We will need to perform a full outer join in order to analyze all of the data with our classifier. The data also has some repetition as it is separated by both genders, male, and female. We will use some form of a group by function to analyze this data one group at a time. \n",
        "\n",
        "### Potential impact of the results\n",
        "This project has the potential to predict which colleges have the best track record of minoirty and female students graduating on time. This might be useful for high school students who are choosing what colleges to apply to. It can also show current college students where their university has room to improve and where resources should be targeted. \n"
      ]
    },
    {
      "cell_type": "code",
      "metadata": {
        "id": "UxB3-3fiwA7M"
      },
      "source": [
        ""
      ],
      "execution_count": null,
      "outputs": []
    }
  ]
}