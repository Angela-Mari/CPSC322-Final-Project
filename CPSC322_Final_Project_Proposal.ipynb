{
  "nbformat": 4,
  "nbformat_minor": 0,
  "metadata": {
    "colab": {
      "name": "CPSC322-Final-Project-Proposal.ipynb",
      "provenance": [],
      "collapsed_sections": [],
      "include_colab_link": true
    },
    "kernelspec": {
      "name": "python3",
      "display_name": "Python 3"
    },
    "language_info": {
      "name": "python"
    }
  },
  "cells": [
    {
      "cell_type": "markdown",
      "metadata": {
        "id": "view-in-github",
        "colab_type": "text"
      },
      "source": [
        "<a href=\"https://colab.research.google.com/github/Angela-Mari/CPSC322-Final-Project/blob/master/CPSC322_Final_Project_Proposal.ipynb\" target=\"_parent\"><img src=\"https://colab.research.google.com/assets/colab-badge.svg\" alt=\"Open In Colab\"/></a>"
      ]
    },
    {
      "cell_type": "markdown",
      "metadata": {
        "id": "3642W8yrw6sx"
      },
      "source": [
        "# Final Project Proposal\n",
        "## Mia Brasil and Angela George\n",
        "### Dataset Description\n",
        "The dataset has attributes like module code, presentation code, student id, gender, region, highest education, age,\tprevious attempts, credits earned, disability, and final grade result. The source of the data is the College Completion microsite produced by Open University Learning Analytics. We will use student demographics data to predict the students final result in the course (pass, fail, withdrawal). \n",
        "### Implementation/technical merit\n",
        "We will need to decide which attributes to use to predict the result. Some of the identifier data (course code, presentation code, student id) will need to be removed before using the data to predict the result. The data could also have some repetition as it is possible the same student took multiple course represented in the data. We will need to watch to make sure each student is only represented once in our analysis. \n",
        "\n",
        "### Potential impact of the results\n",
        "This project has the potential to predict and understand how student demographics contribute to their success in college courses. This could be useful in informing us on how our instutional biases take form and hinder the success of students in minority groups. \n"
      ]
    },
    {
      "cell_type": "code",
      "metadata": {
        "id": "UxB3-3fiwA7M"
      },
      "source": [],
      "execution_count": null,
      "outputs": []
    }
  ]
}